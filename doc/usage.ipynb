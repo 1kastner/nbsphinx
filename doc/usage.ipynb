{
 "cells": [
  {
   "cell_type": "markdown",
   "metadata": {},
   "source": [
    "# Usage\n",
    "\n",
    "Install `nbsphinx` with pip (not available yet!) or copy the file [nbsphinx.py](../nbsphinx.py) to the directory where you want to set up Sphinx (this is typically the directory where you have your notebook files).\n",
    "\n",
    "In the same directory, run this command (assuming you have [Sphinx](http://sphinx-doc.org/) installed already):\n",
    "\n",
    "    sphinx-quickstart\n",
    "    \n",
    "Answer the questions that appear on the screen, in case of doubt, just press the `<Return>` key to take the default values.\n",
    "\n",
    "After that, there will be a few brand-new files in the current directory.\n",
    "You'll have to make a few changes to the file `conf.py`.\n",
    "Have a look at the [conf.py](conf.py) of `nbsphinx` for the details.\n",
    "\n",
    "Once your `conf.py` is in place, edit the file `index.rst` and add your notebooks (without the `.ipynb` extension) to the `toctree` directive.\n",
    "\n",
    "To create the HTML pages, use this command:\n",
    "\n",
    "    sphinx-build <source-dir> <build-dir>\n",
    "    \n",
    "For example, if your source files are in the current directory, you can run this:\n",
    "\n",
    "    sphinx-build . _build\n",
    "    \n",
    "Afterwards, you can find the main HTML file in `_build/index.html`.\n",
    "\n",
    "To create LaTeX output, use:\n",
    "\n",
    "    sphinx-build <source-dir> <build-dir> -b latex"
   ]
  }
 ],
 "metadata": {
  "kernelspec": {
   "display_name": "Python 3",
   "language": "python",
   "name": "python3"
  },
  "language_info": {
   "codemirror_mode": {
    "name": "ipython",
    "version": 3
   },
   "file_extension": ".py",
   "mimetype": "text/x-python",
   "name": "python",
   "nbconvert_exporter": "python",
   "pygments_lexer": "ipython3",
   "version": "3.4.4rc1"
  }
 },
 "nbformat": 4,
 "nbformat_minor": 0
}
