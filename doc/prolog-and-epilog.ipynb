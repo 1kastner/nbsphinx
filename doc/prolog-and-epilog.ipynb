{
 "cells": [
  {
   "cell_type": "markdown",
   "metadata": {
    "nbsphinx": "hidden"
   },
   "source": [
    "This notebook is part of the `nbsphinx` documentation: http://nbsphinx.readthedocs.io/."
   ]
  },
  {
   "cell_type": "markdown",
   "metadata": {},
   "source": [
    "# Prolog and Epilog\n",
    "\n",
    "When including notebooks in your Sphinx documentation, you can choose to add some generic content before and after each notebook.\n",
    "This can be done with the configuration values `nbsphinx_prolog` and `nbsphinx_epilog` in the file `conf.py`.\n",
    "\n",
    "The prolog and epilog strings can hold arbitrary [reST](http://sphinx-doc.org/rest.html) markup.\n",
    "Particularly, the [only](http://www.sphinx-doc.org/en/stable/markup/misc.html#directive-only) and [raw](http://docutils.sourceforge.net/docs/ref/rst/directives.html#raw-data-pass-through) directives can be used to have different content for HTML and LaTeX output.\n",
    "\n",
    "Those strings are also processed by the [Jinja2](http://jinja.pocoo.org/) templating engine.\n",
    "This means you can run Python-like code within those strings.\n",
    "You have access to the current [Sphinx build environment](http://www.sphinx-doc.org/en/stablef/extdev/envapi.html) via the variable `env`.\n",
    "For example, you can get the file name of the current notebook with\n",
    "\n",
    "    {{ env.doc2path(env.docname, base=None) }}\n",
    "\n",
    "Have a look at the [Jinja2 template documentation](http://jinja.pocoo.org/docs/latest/templates/) for more information.\n",
    "\n",
    "For an example, see the file [conf.py](conf.py) of the `nbsphinx` documentation.\n",
    "\n",
    "<div class=\"alert alert-warning\">\n",
    "\n",
    "**Warning:**\n",
    "\n",
    "If you use invalid syntax, you might get an error like this:\n",
    "\n",
    "    jinja2.exceptions.TemplateSyntaxError: expected token ':', got '}'\n",
    "\n",
    "This is especially prone to happen when using raw LaTeX, with its abundance of braces.\n",
    "To avoid clashing braces you can try to insert additional spaces or LaTeX macros that don't have a visible effect, like e.g. `\\strut{}`.\n",
    "For example, you can avoid three consecutive opening braces with something like that:\n",
    "\n",
    "    \\texttt{\\strut{}{{ env.doc2path(env.docname, base=None) }}}\n",
    "\n",
    "NB: The three consecutive closing braces in this example are not problematic.\n",
    "\n",
    "</div>"
   ]
  }
 ],
 "metadata": {
  "kernelspec": {
   "display_name": "Python 3",
   "language": "python",
   "name": "python3"
  },
  "language_info": {
   "codemirror_mode": {
    "name": "ipython",
    "version": 3
   },
   "file_extension": ".py",
   "mimetype": "text/x-python",
   "name": "python",
   "nbconvert_exporter": "python",
   "pygments_lexer": "ipython3",
   "version": "3.6.4rc1"
  }
 },
 "nbformat": 4,
 "nbformat_minor": 1
}
