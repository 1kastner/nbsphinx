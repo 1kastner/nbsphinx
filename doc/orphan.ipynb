{
 "cells": [
  {
   "cell_type": "markdown",
   "metadata": {},
   "source": [
    "# An Orphan Notebook\n",
    "\n",
    "This means that is doesn't appear in the Sphinx doctree (see `index.rst`), but other pages can still link to it (with ``:doc:`notebookname` ``).\n",
    "\n",
    "**Note:** Orphan notebooks are not included in the PDF output!\n",
    "\n",
    "Sphinx raises a warning in case of orphaned documents:\n",
    "\n",
    "    WARNING: document isn't included in any toctree\n",
    "    \n",
    "If you want to avoid this warning, you can add this to the notebook JSON metadata:\n",
    "\n",
    "```json\n",
    "\"nbsphinx\": {\n",
    "  \"orphan\": true\n",
    "},\n",
    "```"
   ]
  }
 ],
 "metadata": {
  "kernelspec": {
   "display_name": "Python 3",
   "language": "python",
   "name": "python3"
  },
  "language_info": {
   "codemirror_mode": {
    "name": "ipython",
    "version": 3
   },
   "file_extension": ".py",
   "mimetype": "text/x-python",
   "name": "python",
   "nbconvert_exporter": "python",
   "pygments_lexer": "ipython3",
   "version": "3.4.3+"
  },
  "nbsphinx": {
   "orphan": true
  }
 },
 "nbformat": 4,
 "nbformat_minor": 0
}
