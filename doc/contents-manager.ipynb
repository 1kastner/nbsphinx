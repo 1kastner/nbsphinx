{
 "cells": [
  {
   "cell_type": "markdown",
   "metadata": {},
   "source": [
    "# Custom Notebook Formats\n",
    "\n",
    "The Jupyter Notebook application allows extensions to use a custom notebook format\n",
    "other than the native Jupyter format used in `*.ipynb` files.\n",
    "Such extensions can customize the so-called \"contents manager\"\n",
    "which is responsible for reading and writing the files used by Jupyter.\n",
    "\n",
    "One example for such an extension is [jupytext](https://github.com/mwouts/jupytext),\n",
    "which allows the use of Markdown, R-Markdown as well as plain Julia, Python and R files.\n",
    "\n",
    "If it provides the necessary metadata, such a \"contents manager\" can also be used by `nbsphinx`.\n",
    "To use a custom \"contents manager\", you have to select it in your `conf.py` file\n",
    "(and of course you have to install the extension, too):\n",
    "\n",
    "```python\n",
    "nbsphinx_contents_manager = 'jupytext.TextFileContentsManager'\n",
    "```\n",
    "\n",
    "In addition, you have to register the file extension(s) you want to use\n",
    "(for example `.Rmd`) as having the type `jupyter_notebook`:\n",
    "\n",
    "```python\n",
    "source_suffix = {\n",
    "    '.Rmd': 'jupyter_notebook',\n",
    "    '.rst': 'restructuredtext',\n",
    "}\n",
    "```\n",
    "\n",
    "With such a setup you should be able to use notebooks with custom formats\n",
    "just like `*.ipynb` files.\n",
    "\n",
    "<div class=\"alert alert-info\">\n",
    "\n",
    "**Note:**\n",
    "\n",
    "Using `nbsphinx_contents_manager` makes it impossible to use\n",
    "the Sphinx translation machinery at the same time.\n",
    "\n",
    "</div>"
   ]
  }
 ],
 "metadata": {
  "kernelspec": {
   "display_name": "Python 3",
   "language": "python",
   "name": "python3"
  },
  "language_info": {
   "codemirror_mode": {
    "name": "ipython",
    "version": 3
   },
   "file_extension": ".py",
   "mimetype": "text/x-python",
   "name": "python",
   "nbconvert_exporter": "python",
   "pygments_lexer": "ipython3",
   "version": "3.6.7"
  }
 },
 "nbformat": 4,
 "nbformat_minor": 2
}
