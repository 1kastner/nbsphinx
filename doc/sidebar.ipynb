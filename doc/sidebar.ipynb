{
 "cells": [
  {
   "cell_type": "markdown",
   "metadata": {},
   "source": [
    "# Using `sidebar`\n",
    "\n",
    "blah"
   ]
  },
  {
   "cell_type": "markdown",
   "metadata": {
    "nbsphinx-sidebar": {}
   },
   "source": [
    "## Sidebar Title\n",
    "\n",
    "### Sidebar Subtitle\n",
    "\n",
    "Sidebar content."
   ]
  },
  {
   "cell_type": "markdown",
   "metadata": {},
   "source": [
    "I'm the cell below the `nbsphinx-sidebar` cell."
   ]
  }
 ],
 "metadata": {
  "celltoolbar": "Edit Metadata",
  "kernelspec": {
   "display_name": "Python 3",
   "language": "python",
   "name": "python3"
  },
  "language_info": {
   "codemirror_mode": {
    "name": "ipython",
    "version": 3
   },
   "file_extension": ".py",
   "mimetype": "text/x-python",
   "name": "python",
   "nbconvert_exporter": "python",
   "pygments_lexer": "ipython3",
   "version": "3.5.1+"
  }
 },
 "nbformat": 4,
 "nbformat_minor": 1
}
